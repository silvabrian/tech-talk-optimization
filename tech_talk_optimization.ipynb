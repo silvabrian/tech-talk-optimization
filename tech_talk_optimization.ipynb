{
 "metadata": {
  "signature": "sha256:b852cecc3215044efccb5998f7c494946d60ac8b93bc3dc4ecd45f96db7becd4"
 },
 "nbformat": 3,
 "nbformat_minor": 0,
 "worksheets": [
  {
   "cells": [
    {
     "cell_type": "heading",
     "level": 1,
     "metadata": {},
     "source": [
      "General Purpose Optimization Techniques"
     ]
    },
    {
     "cell_type": "heading",
     "level": 4,
     "metadata": {},
     "source": [
      "This notebook provides some examples of applying BFGS/L-BFGS and basin-hopping optimization techniques."
     ]
    },
    {
     "cell_type": "heading",
     "level": 2,
     "metadata": {},
     "source": [
      "Some initial setup"
     ]
    },
    {
     "cell_type": "code",
     "collapsed": false,
     "input": [
      "import scipy.optimize as spo\n",
      "import numpy as np\n",
      "from random import random\n",
      "from IPython.display import Image\n",
      "\n",
      "class MyBounds(object):\n",
      "    def __init__(self, xmin, xmax):\n",
      "        self.xmin = np.array(xmin)\n",
      "        self.xmax = np.array(xmax)\n",
      "\n",
      "    def __call__(self, **kwargs):\n",
      "        x = kwargs[\"x_new\"]\n",
      "        tmin = bool(np.all(x >= self.xmin))\n",
      "        tmax = bool(np.all(x <= self.xmax))\n",
      "        return tmin and tmax"
     ],
     "language": "python",
     "metadata": {},
     "outputs": []
    },
    {
     "cell_type": "heading",
     "level": 2,
     "metadata": {},
     "source": [
      "Examples - BFGS/L-BGFS-B"
     ]
    },
    {
     "cell_type": "markdown",
     "metadata": {},
     "source": [
      "<a href=\"http://docs.scipy.org/doc/scipy-0.15.1/reference/generated/scipy.optimize.fmin_l_bfgs_b.html\">Documentation</a>"
     ]
    },
    {
     "cell_type": "heading",
     "level": 3,
     "metadata": {},
     "source": [
      "Normal Log-Likelihood Function"
     ]
    },
    {
     "cell_type": "markdown",
     "metadata": {},
     "source": [
      "$$l(\\mu, \\sigma^{2}, x_{1},...,x_{n}) = -\\frac{n}{2}\\ln(2\\pi) - \\frac{n}{2}\\ln(\\sigma^{2}) - \\frac{1}{2\\sigma^{2}}\\sum\\limits^{n}_{i=1}\\left(x_{i}-\\mu\\right)^{2}$$\n",
      "$$\\nabla l(\\mu, \\sigma^{2}, x_{1},...,x_{n}) = \\left\\{\\frac{1}{\\sigma^{2}}\\left(\\sum\\limits^{n}_{i=1}x_{i} - n\\mu\\right), \\frac{1}{2\\sigma^{2}}\\left[\\frac{1}{\\sigma^{2}}\\sum\\limits^{n}_{i=1}\\left(x_{i}-\\mu\\right)^{2} - n\\right]\\right\\}$$"
     ]
    },
    {
     "cell_type": "code",
     "collapsed": false,
     "input": [
      "norm_loglik = lambda x, *args: -(-0.5 * len(args[0]) * np.log(2 * np.pi) - 0.5 * len(args[0]) * np.log(x[1]) - (0.5 / x[1]) * sum((np.array(args[0]) - x[0])**2))\n",
      "\n",
      "norm_grad = lambda x, *args: - np.array([1.0/x[1] * (sum(args[0]) - len(args[0]) * x[0]), 0.5/x[1] * ((1.0/x[1]) * sum((np.array(args[0]) - x[0])**2) - len(args[0]))])\n",
      "    \n",
      "y = 3 * np.random.randn(10000) + 2\n",
      "x0 = np.array([0.0, 1.0])\n",
      "mybounds = [(None, None), (0, None)]"
     ],
     "language": "python",
     "metadata": {},
     "outputs": []
    },
    {
     "cell_type": "heading",
     "level": 4,
     "metadata": {},
     "source": [
      "L-BFGS-B optimization with gradient"
     ]
    },
    {
     "cell_type": "code",
     "collapsed": false,
     "input": [
      "ret = spo.fmin_l_bfgs_b(func=norm_loglik, \n",
      "                        x0=x0, \n",
      "                        fprime=norm_grad, \n",
      "                        args=(y,), \n",
      "                        bounds=mybounds)\n",
      "\n",
      "print(ret[0])"
     ],
     "language": "python",
     "metadata": {},
     "outputs": []
    },
    {
     "cell_type": "heading",
     "level": 4,
     "metadata": {},
     "source": [
      "L-BFGS-B optimization with approximate gradient"
     ]
    },
    {
     "cell_type": "code",
     "collapsed": false,
     "input": [
      "ret = spo.fmin_l_bfgs_b(func=norm_loglik, \n",
      "                        x0=x0, \n",
      "                        args=(y,),\n",
      "                        approx_grad=True,\n",
      "                        bounds=mybounds)\n",
      "\n",
      "print(ret[0])"
     ],
     "language": "python",
     "metadata": {},
     "outputs": []
    },
    {
     "cell_type": "heading",
     "level": 2,
     "metadata": {},
     "source": [
      "Practice - BFGS"
     ]
    },
    {
     "cell_type": "markdown",
     "metadata": {},
     "source": [
      "<a href=\"http://docs.scipy.org/doc/scipy-0.15.1/reference/generated/scipy.optimize.fmin_bfgs.html\">Documentation</a>"
     ]
    },
    {
     "cell_type": "heading",
     "level": 3,
     "metadata": {},
     "source": [
      "Solve the following using the function fmin_bfgs"
     ]
    },
    {
     "cell_type": "markdown",
     "metadata": {},
     "source": [
      "$$\\text{Minimize}\\hspace{5mm} f(\\mathbf{x}) = e^{x_{1}-1} + e^{-x_{2}+1} + \\left(x_{1} - x_{2}\\right)^{2}$$"
     ]
    },
    {
     "cell_type": "code",
     "collapsed": false,
     "input": [
      "bfgs_prac = lambda x: np.exp(x[0] - 1) + np.exp(-x[1] + 1) + (x[0] - x[1])**2\n",
      "\n",
      "bfgs_prac_grad = lambda x: np.array([np.exp(x[0]-1) + 2 * (x[0] - x[1]), \n",
      "           -np.exp(-x[1] + 1) - 2 * (x[0] - x[1])])\n",
      "\n",
      "x0 = [0.0, 0.0]"
     ],
     "language": "python",
     "metadata": {},
     "outputs": []
    },
    {
     "cell_type": "heading",
     "level": 3,
     "metadata": {},
     "source": [
      "Add your code to the function below"
     ]
    },
    {
     "cell_type": "code",
     "collapsed": false,
     "input": [
      "ret = spo.fmin_bfgs(# Your code here\n",
      "                    full_output=True,\n",
      "                    disp=False)\n",
      "\n",
      "print('Minimum at {}'.format(ret[1]))\n",
      "print(ret[0])"
     ],
     "language": "python",
     "metadata": {},
     "outputs": []
    },
    {
     "cell_type": "heading",
     "level": 3,
     "metadata": {},
     "source": [
      "Compare your result with the following"
     ]
    },
    {
     "cell_type": "heading",
     "level": 4,
     "metadata": {},
     "source": [
      "BFGS optimization with gradient"
     ]
    },
    {
     "cell_type": "code",
     "collapsed": false,
     "input": [
      "ret = spo.fmin_bfgs(f=bfgs_prac,\n",
      "                    x0=x0,\n",
      "                    fprime=bfgs_prac_grad,\n",
      "                    full_output=True,\n",
      "                    disp=False)\n",
      "\n",
      "print('Minimum at {}'.format(ret[1]))\n",
      "print(ret[0])"
     ],
     "language": "python",
     "metadata": {},
     "outputs": []
    },
    {
     "cell_type": "heading",
     "level": 4,
     "metadata": {},
     "source": [
      "BFGS optimization with approximate gradient"
     ]
    },
    {
     "cell_type": "code",
     "collapsed": false,
     "input": [
      "ret = spo.fmin_bfgs(f=bfgs_prac,\n",
      "                    x0=x0,\n",
      "                    full_output=True,\n",
      "                    disp=False)\n",
      "\n",
      "print('Minimum at {}'.format(ret[1]))\n",
      "print(ret[0])"
     ],
     "language": "python",
     "metadata": {},
     "outputs": []
    },
    {
     "cell_type": "heading",
     "level": 2,
     "metadata": {},
     "source": [
      "Examples - Basin-hopping"
     ]
    },
    {
     "cell_type": "markdown",
     "metadata": {},
     "source": [
      "<a href=\"http://docs.scipy.org/doc/scipy-0.15.1/reference/generated/scipy.optimize.basinhopping.html\">Documentation</a>"
     ]
    },
    {
     "cell_type": "heading",
     "level": 3,
     "metadata": {},
     "source": [
      "Rastrigin Function"
     ]
    },
    {
     "cell_type": "markdown",
     "metadata": {},
     "source": [
      "$$f(\\mathbf{x}) = 10 n + \\sum\\limits^{n}_{i=1} \\left[x^{2}_{i} - 10 \\cos(2\\pi x_{i})\\right]$$ $$x_{i}\\in \\left[-5.12, 5.12\\right]$$"
     ]
    },
    {
     "cell_type": "code",
     "collapsed": false,
     "input": [
      "Image(filename='rastrigin.png')"
     ],
     "language": "python",
     "metadata": {},
     "outputs": []
    },
    {
     "cell_type": "code",
     "collapsed": false,
     "input": [
      "Rastrigin = lambda x: sum(x**2 - 10 * np.cos(2 * np.pi * x)) + 10 * len(x)\n",
      "\n",
      "dimension = 30\n",
      "l_bound = -5.12\n",
      "u_bound = 5.12\n",
      "minimizer_kwargs = {'method': 'BFGS'}\n",
      "\n",
      "x0 = [u_bound] * dimension\n",
      "\n",
      "ret = spo.basinhopping(func=Rastrigin, \n",
      "                       x0=x0,\n",
      "                       accept_test=MyBounds(xmin=[l_bound]*dimension, xmax=[u_bound]*dimension),\n",
      "                       niter=200,\n",
      "                       minimizer_kwargs=minimizer_kwargs)\n",
      "\n",
      "print('Minimum at {}'.format(ret.fun))\n",
      "print(ret.x)"
     ],
     "language": "python",
     "metadata": {},
     "outputs": []
    },
    {
     "cell_type": "heading",
     "level": 3,
     "metadata": {},
     "source": [
      "Ackley's Function"
     ]
    },
    {
     "cell_type": "markdown",
     "metadata": {},
     "source": [
      "$$f(\\mathbf{x}) = -20 \\exp\\left[-0.2 \\sqrt{\\frac{1}{n}\\sum\\limits^{n}_{i=1}x^{2}_{i}}\\right] - \\exp\\left[\\frac{1}{n} \\sum\\limits^{n}_{i=1} \\cos\\left(2\\pi x_{i}\\right)\\right] + 20 + e$$ $$x_{i}\\in \\left[-5, 5\\right]$$"
     ]
    },
    {
     "cell_type": "code",
     "collapsed": false,
     "input": [
      "Image(filename='ackley.png')"
     ],
     "language": "python",
     "metadata": {},
     "outputs": []
    },
    {
     "cell_type": "code",
     "collapsed": false,
     "input": [
      "Ackley = lambda x: - 20 * np.exp(-0.2 * np.sqrt((1.0/len(x)) * sum(x**2))) - np.exp((1.0/len(x)) * sum(np.cos(2 * np.pi * x))) + 20 + np.exp(1)\n",
      "\n",
      "dimension = 30\n",
      "l_bound = -5.0\n",
      "u_bound = 5.0\n",
      "minimizer_kwargs = {'method': 'BFGS'}\n",
      "x0 = [u_bound] * dimension\n",
      "ret = spo.basinhopping(func=Ackley, \n",
      "                       x0=x0,\n",
      "                       accept_test=MyBounds(xmin=[l_bound]*dimension, xmax=[u_bound]*dimension),\n",
      "                       niter=200,\n",
      "                       minimizer_kwargs=minimizer_kwargs)\n",
      "\n",
      "\n",
      "print('Minimum at {}'.format(ret.fun))\n",
      "print(ret.x)"
     ],
     "language": "python",
     "metadata": {},
     "outputs": []
    },
    {
     "cell_type": "heading",
     "level": 2,
     "metadata": {},
     "source": [
      "Practice - Basin-hopping"
     ]
    },
    {
     "cell_type": "heading",
     "level": 3,
     "metadata": {},
     "source": [
      "Solve the following using the function basinhopping"
     ]
    },
    {
     "cell_type": "heading",
     "level": 3,
     "metadata": {},
     "source": [
      "Levi Function"
     ]
    },
    {
     "cell_type": "markdown",
     "metadata": {},
     "source": [
      "$$f(x_{1}, x_{2}) = \\sin^{2}\\left(3\\pi x_{1}\\right) + \\left(x_{1} - 1\\right)^{2}\\left[1 + \\sin^{2}\\left(3\\pi x_{2}\\right)\\right] + \\left(x_{2} - 1\\right)^{2}\\left[1 + \\sin^{2}\\left(2\\pi x_{2}\\right)\\right]$$ $$x_{i}\\in \\left[-10, 10\\right]$$"
     ]
    },
    {
     "cell_type": "code",
     "collapsed": false,
     "input": [
      "Image(filename='levi.png')"
     ],
     "language": "python",
     "metadata": {},
     "outputs": []
    },
    {
     "cell_type": "code",
     "collapsed": false,
     "input": [
      "Levi = lambda x: (np.sin(3 * np.pi * x[0]))**2 + (1 + (np.sin(3 * np.pi * x[1]))**2) * (x[0] - 1)**2 + (1 + (np.sin(2 * np.pi * x[1]))**2) * (x[1] - 1)**2"
     ],
     "language": "python",
     "metadata": {},
     "outputs": []
    },
    {
     "cell_type": "heading",
     "level": 3,
     "metadata": {},
     "source": [
      "Add your code to the function below (Note: dimension=2)"
     ]
    },
    {
     "cell_type": "code",
     "collapsed": false,
     "input": [
      "ret = spo.basinhopping(# Your code here\n",
      "                      )\n",
      "\n",
      "print('Minimum at {}'.format(ret.fun))\n",
      "print(ret.x)"
     ],
     "language": "python",
     "metadata": {},
     "outputs": []
    },
    {
     "cell_type": "heading",
     "level": 3,
     "metadata": {},
     "source": [
      "Compare your result with the following"
     ]
    },
    {
     "cell_type": "code",
     "collapsed": false,
     "input": [
      "dimension = 2\n",
      "l_bound = -10.0\n",
      "u_bound = 10.0\n",
      "minimizer_kwargs = {'method': 'BFGS'}\n",
      "x0 = [u_bound] * dimension\n",
      "\n",
      "ret = spo.basinhopping(func=Levi, \n",
      "                       x0=x0,\n",
      "                       accept_test=MyBounds(xmin=[l_bound]*dimension, xmax=[u_bound]*dimension),\n",
      "                       niter=200,\n",
      "                       minimizer_kwargs=minimizer_kwargs)\n",
      "\n",
      "\n",
      "print('Minimum at {}'.format(ret.fun))\n",
      "print(ret.x)"
     ],
     "language": "python",
     "metadata": {},
     "outputs": []
    }
   ],
   "metadata": {}
  }
 ]
}